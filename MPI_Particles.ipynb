{
 "cells": [
  {
   "cell_type": "code",
   "execution_count": 1,
   "id": "57a7cf28",
   "metadata": {},
   "outputs": [],
   "source": [
    "import numpy as np\n",
    "import mpi4py.rc\n",
    "mpi4py.rc.initialize = False  \n",
    "from mpi4py import MPI\n",
    "MPI.Init()\n",
    "comm = MPI.COMM_WORLD\n",
    "rank = comm.Get_rank()\n",
    "nr_proc = comm.Get_size()"
   ]
  },
  {
   "cell_type": "code",
   "execution_count": 66,
   "id": "c20ba9ee",
   "metadata": {},
   "outputs": [],
   "source": [
    "#Know where I am:\n",
    "\n",
    "y_pos = rank%np.sqrt(nr_proc)\n",
    "x_pos = (rank-rank%np.sqrt(nr_proc))/np.sqrt(nr_proc)\n",
    "\n",
    "ID = np.array([x_pos,y_pos])\n",
    "\n",
    "x_range = np.array(ID[1]/np.sqrt(nr_proc),)"
   ]
  },
  {
   "cell_type": "code",
   "execution_count": 95,
   "id": "4002ffc5",
   "metadata": {},
   "outputs": [
    {
     "name": "stdout",
     "output_type": "stream",
     "text": [
      "This is process 7 and the initial posistions I have are [[0.35555556 0.71111111]\n",
      " [0.44444444 0.71111111]\n",
      " [0.53333333 0.71111111]\n",
      " [0.62222222 0.71111111]\n",
      " [0.35555556 0.8       ]\n",
      " [0.44444444 0.8       ]\n",
      " [0.53333333 0.8       ]\n",
      " [0.62222222 0.8       ]].\n"
     ]
    }
   ],
   "source": [
    "DIM = 2\n",
    "sigma = 0.05\n",
    "nx = 10\n",
    "N = nx**2\n",
    "d_perfect = 2**(1/6)*sigma\n",
    "epsilon = 10\n",
    "BoxSize = 1\n",
    "Rcutoff = 2.5*sigma\n",
    "\n",
    "x_range = np.array([ID[1]/np.sqrt(nr_proc),(ID[1]+1)/np.sqrt(nr_proc)])\n",
    "y_range = np.array([ID[0]/np.sqrt(nr_proc),(ID[0]+1)/np.sqrt(nr_proc)])\n",
    "\n",
    "\n",
    "\n",
    "core_dist = BoxSize/np.sqrt(nr_proc)\n",
    "dist_init = np.linspace(0,0.8,nx)\n",
    "upper_x = x_range[1]\n",
    "lower_x = x_range[0]\n",
    "x_init = dist_init[np.where(upper_x >= dist_init)]\n",
    "x_init = x_init[np.where(lower_x < x_init)]\n",
    "\n",
    "upper_y = y_range[1]\n",
    "lower_y = y_range[0]\n",
    "y_init = dist_init[np.where(upper_y >= dist_init)]\n",
    "y_init = y_init[np.where(lower_y < y_init)]\n",
    "#core_dist = BoxSize/np.sqrt(nr_proc)\n",
    "nx, ny = len(x_init),len(y_init)\n",
    "\n",
    "pos = np.zeros([nx*ny,DIM])\n",
    "for i in range(nx):\n",
    "    for j in range(ny):\n",
    "        pos[i+nx*j] = [x_init[i]*BoxSize,y_init[j]*BoxSize]\n",
    "        \n",
    "\n",
    "        \n",
    "print(\"This is process {} and the initial posistions I have are {}.\".format(rank, pos))"
   ]
  },
  {
   "cell_type": "code",
   "execution_count": null,
   "id": "7a77fd2c",
   "metadata": {},
   "outputs": [],
   "source": [
    "def Compute_Forces(pos,epsilon,BoxSize,DIM,N):\n",
    "    Sij = np.zeros(DIM)\n",
    "    Rij = np.zeros(DIM)\n",
    "    acc = np.zeros([N,DIM])\n",
    "    for i in range(N-1):\n",
    "        for j in range(i+1,N):\n",
    "            Sij = (pos[i,:]-pos[j,:])\n",
    "            \n",
    "            for l in range(DIM):\n",
    "                if (np.abs(Sij[l])>0.5):\n",
    "                    Sij[l] = Sij[l]-np.copysign(1,Sij[l])\n",
    "            \n",
    "            Rij = BoxSize*Sij\n",
    "            \n",
    "            Rsqij = np.dot(Rij,Rij)\n",
    "            \n",
    "            if (Rsqij<Rcutoff**2):\n",
    "                r2 = 1/Rsqij\n",
    "                r6 = r2**2\n",
    "                r12 = r6**3\n",
    "                dphi = epsilon*24*r2*(2*sigma**12*r12-sigma**6*r6)\n",
    "                \n",
    "                acc[i,:] = acc[i,:]+dphi*Sij\n",
    "                acc[j,:] = acc[j,:]-dphi*Sij#\n",
    "    return acc                "
   ]
  },
  {
   "cell_type": "code",
   "execution_count": 105,
   "id": "b104cd50",
   "metadata": {},
   "outputs": [],
   "source": [
    "def rank_from_ID(ID):\n",
    "    return int(3*ID[0]+ID[1])"
   ]
  },
  {
   "cell_type": "code",
   "execution_count": 121,
   "id": "452b90a0",
   "metadata": {},
   "outputs": [],
   "source": [
    "def send_positions_near_sides(pos,ID,x_range,y_range,Rcutoff):\n",
    "    upper_x = x_range[1]\n",
    "    lower_x = x_range[0]\n",
    "    upper_y = y_range[1]\n",
    "    lower_y = y_range[0]\n",
    "    #Left wall\n",
    "    LEFT_WALL = pos[np.where(pos[:,0]<= lower_x + Rcutoff)]\n",
    "    comm.send(LEFT_WALL,dest=rank_from_ID((ID[0],(ID[1]-1)%3)),tag=\"FROM RIGHT\")\n",
    "    \n",
    "    #Right wall\n",
    "    RIGHT_WALL = pos[np.where(pos[:,0]>= upper_x - Rcutoff)]\n",
    "    comm.send(RIGHT_WALL,dest=rank_from_ID((ID[0],(ID[1]+1)%3)),tag=\"FROM LEFT\"\n",
    "              \n",
    "    #Lower wall\n",
    "    LOWER_WALL = pos[np.where(pos[:,1]>= lower_y + Rcutoff)]\n",
    "    comm.send(LOWER_WALL,dest=rank_from_ID(((ID[0]-1)%3,ID[1])),tag=\"FROM ABOVE\")\n",
    "              \n",
    "    #Upper wall\n",
    "    UPPER_WALL = pos[np.where(pos[:,1]<= upper_y - Rcutoff)]\n",
    "    comm.send(UPPER_WALL,dest=rank_from_ID(((ID[0]+1)%3,ID[1])),tag=\"FROM BELOW\")\n"
   ]
  },
  {
   "cell_type": "code",
   "execution_count": 115,
   "id": "b59f0c94",
   "metadata": {},
   "outputs": [],
   "source": [
    "LEFT_WALL = pos[np.where(pos[:,0]<= lower_x + Rcutoff)]"
   ]
  },
  {
   "cell_type": "code",
   "execution_count": 124,
   "id": "3c54c01d",
   "metadata": {},
   "outputs": [
    {
     "data": {
      "text/plain": [
       "array([[0.35555556, 0.71111111],\n",
       "       [0.44444444, 0.71111111],\n",
       "       [0.53333333, 0.71111111],\n",
       "       [0.62222222, 0.71111111],\n",
       "       [0.35555556, 0.8       ],\n",
       "       [0.44444444, 0.8       ],\n",
       "       [0.53333333, 0.8       ],\n",
       "       [0.62222222, 0.8       ]])"
      ]
     },
     "execution_count": 124,
     "metadata": {},
     "output_type": "execute_result"
    }
   ],
   "source": [
    "pos"
   ]
  },
  {
   "cell_type": "code",
   "execution_count": 119,
   "id": "515b72b1",
   "metadata": {},
   "outputs": [
    {
     "name": "stdout",
     "output_type": "stream",
     "text": [
      "[0.35555556 0.71111111]\n",
      "[0.44444444 0.71111111]\n",
      "[0.35555556 0.8       ]\n",
      "[0.44444444 0.8       ]\n"
     ]
    }
   ],
   "source": [
    "for i in LEFT_WALL:\n",
    "    print(i)"
   ]
  },
  {
   "cell_type": "code",
   "execution_count": 117,
   "id": "2419df0d",
   "metadata": {},
   "outputs": [
    {
     "data": {
      "text/plain": [
       "0.4583333333333333"
      ]
     },
     "execution_count": 117,
     "metadata": {},
     "output_type": "execute_result"
    }
   ],
   "source": [
    "lower_x + Rcutoff"
   ]
  },
  {
   "cell_type": "code",
   "execution_count": 113,
   "id": "caab8b4f",
   "metadata": {},
   "outputs": [
    {
     "data": {
      "text/plain": [
       "array([0.35555556, 0.44444444, 0.53333333, 0.62222222, 0.35555556,\n",
       "       0.44444444, 0.53333333, 0.62222222])"
      ]
     },
     "execution_count": 113,
     "metadata": {},
     "output_type": "execute_result"
    }
   ],
   "source": [
    "pos[:,0]"
   ]
  },
  {
   "cell_type": "code",
   "execution_count": 112,
   "id": "9a6f5f2e",
   "metadata": {},
   "outputs": [
    {
     "data": {
      "text/plain": [
       "array([[0.35555556, 0.71111111],\n",
       "       [0.44444444, 0.71111111],\n",
       "       [0.53333333, 0.71111111],\n",
       "       [0.62222222, 0.71111111],\n",
       "       [0.35555556, 0.8       ],\n",
       "       [0.44444444, 0.8       ],\n",
       "       [0.53333333, 0.8       ],\n",
       "       [0.62222222, 0.8       ]])"
      ]
     },
     "execution_count": 112,
     "metadata": {},
     "output_type": "execute_result"
    }
   ],
   "source": [
    "pos"
   ]
  },
  {
   "cell_type": "code",
   "execution_count": 118,
   "id": "99ad724e",
   "metadata": {},
   "outputs": [
    {
     "data": {
      "text/plain": [
       "array([2., 1.])"
      ]
     },
     "execution_count": 118,
     "metadata": {},
     "output_type": "execute_result"
    }
   ],
   "source": [
    "ID"
   ]
  },
  {
   "cell_type": "code",
   "execution_count": null,
   "id": "813bc2f1",
   "metadata": {},
   "outputs": [],
   "source": []
  }
 ],
 "metadata": {
  "kernelspec": {
   "display_name": "Python 3 (ipykernel)",
   "language": "python",
   "name": "python3"
  },
  "language_info": {
   "codemirror_mode": {
    "name": "ipython",
    "version": 3
   },
   "file_extension": ".py",
   "mimetype": "text/x-python",
   "name": "python",
   "nbconvert_exporter": "python",
   "pygments_lexer": "ipython3",
   "version": "3.10.9"
  }
 },
 "nbformat": 4,
 "nbformat_minor": 5
}
